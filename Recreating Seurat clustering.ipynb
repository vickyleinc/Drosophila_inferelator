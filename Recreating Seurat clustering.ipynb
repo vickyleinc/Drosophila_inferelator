{
 "cells": [
  {
   "cell_type": "code",
   "execution_count": 3,
   "metadata": {
    "collapsed": true
   },
   "outputs": [],
   "source": [
    "import csv\n",
    "import os\n",
    "import scipy.io\n",
    "import matplotlib.pyplot as plt\n",
    "%matplotlib inline\n",
    "import seaborn as sns\n",
    "import numpy as np\n",
    "import pandas as pd"
   ]
  },
  {
   "cell_type": "code",
   "execution_count": 4,
   "metadata": {
    "collapsed": true
   },
   "outputs": [],
   "source": [
    "folder_to_name = {'bam_overexpression': 'hsbam',\n",
    "                  'wtF': 'wtF',\n",
    "                  'wtJ': 'wtJ',\n",
    "                  '96h': '96h',\n",
    "                  'dpp_overexpression': 'tj_dpp',\n",
    "                  'bam_mutants': 'bam',\n",
    "                  'osk_nogerm': 'osk'\n",
    "                 }\n",
    "matrices_dir = \"/Users/vickyle/Dropbox/Drosophila_Inferelator_Project (1)\"\n",
    "data_frames = {}\n",
    "\n",
    "tech = 'cellranger'\n",
    "\n",
    "for folder in folder_to_name:\n",
    "    subfolder = folder_to_name[folder]\n",
    "    matrix_dir = os.path.join(os.path.join(matrices_dir,subfolder), tech)\n",
    "    mat = scipy.io.mmread(os.path.join(matrix_dir, \"matrix.mtx\"))\n",
    " \n",
    "    genes_path = os.path.join(matrix_dir, \"genes.tsv\")\n",
    "    gene_ids = [row[0] for row in csv.reader(open(genes_path), delimiter=\"\\t\")]\n",
    "    gene_names = [row[1] for row in csv.reader(open(genes_path), delimiter=\"\\t\")]\n",
    " \n",
    "    barcodes_path = os.path.join(matrix_dir, \"barcodes.tsv\")\n",
    "    barcodes = [row[0] for row in csv.reader(open(barcodes_path), delimiter=\"\\t\")]\n",
    "    arr=mat.toarray()\n",
    "    df = pd.DataFrame(arr)\n",
    "    df.index = gene_names\n",
    "    df.columns = barcodes \n",
    "    data_frames[folder] = df"
   ]
  },
  {
   "cell_type": "code",
   "execution_count": 83,
   "metadata": {
    "collapsed": true
   },
   "outputs": [],
   "source": [
    "df = data_frames['wtF']"
   ]
  },
  {
   "cell_type": "code",
   "execution_count": 84,
   "metadata": {},
   "outputs": [
    {
     "data": {
      "text/html": [
       "<div>\n",
       "<style>\n",
       "    .dataframe thead tr:only-child th {\n",
       "        text-align: right;\n",
       "    }\n",
       "\n",
       "    .dataframe thead th {\n",
       "        text-align: left;\n",
       "    }\n",
       "\n",
       "    .dataframe tbody tr th {\n",
       "        vertical-align: top;\n",
       "    }\n",
       "</style>\n",
       "<table border=\"1\" class=\"dataframe\">\n",
       "  <thead>\n",
       "    <tr style=\"text-align: right;\">\n",
       "      <th></th>\n",
       "      <th>AAACCTGAGAGGACGG-1</th>\n",
       "      <th>AAACCTGAGCCTATGT-1</th>\n",
       "      <th>AAACCTGGTCAAGCGA-1</th>\n",
       "      <th>AAACCTGTCCGCAGTG-1</th>\n",
       "      <th>AAAGATGGTATCACCA-1</th>\n",
       "      <th>AAAGCAAGTAATCACC-1</th>\n",
       "      <th>AAAGCAATCCTTGGTC-1</th>\n",
       "      <th>AAAGTAGCAAGCGCTC-1</th>\n",
       "      <th>AAAGTAGCAGACGCAA-1</th>\n",
       "      <th>AAAGTAGTCCAAAGTC-1</th>\n",
       "      <th>...</th>\n",
       "      <th>TTGGAACTCCTTCAAT-1</th>\n",
       "      <th>TTGGAACTCTGCGACG-1</th>\n",
       "      <th>TTGTAGGCAGACACTT-1</th>\n",
       "      <th>TTTACTGAGAAGAAGC-1</th>\n",
       "      <th>TTTACTGAGGTGCAAC-1</th>\n",
       "      <th>TTTATGCGTAGAAGGA-1</th>\n",
       "      <th>TTTCCTCCACGGCCAT-1</th>\n",
       "      <th>TTTGCGCAGTACGCGA-1</th>\n",
       "      <th>TTTGCGCCATTAGGCT-1</th>\n",
       "      <th>TTTGGTTGTCCCTACT-1</th>\n",
       "    </tr>\n",
       "  </thead>\n",
       "  <tbody>\n",
       "    <tr>\n",
       "      <th>CG11023</th>\n",
       "      <td>0</td>\n",
       "      <td>0</td>\n",
       "      <td>0</td>\n",
       "      <td>0</td>\n",
       "      <td>0</td>\n",
       "      <td>0</td>\n",
       "      <td>0</td>\n",
       "      <td>0</td>\n",
       "      <td>0</td>\n",
       "      <td>0</td>\n",
       "      <td>...</td>\n",
       "      <td>0</td>\n",
       "      <td>0</td>\n",
       "      <td>0</td>\n",
       "      <td>0</td>\n",
       "      <td>0</td>\n",
       "      <td>0</td>\n",
       "      <td>0</td>\n",
       "      <td>0</td>\n",
       "      <td>0</td>\n",
       "      <td>0</td>\n",
       "    </tr>\n",
       "    <tr>\n",
       "      <th>l(2)gl</th>\n",
       "      <td>1</td>\n",
       "      <td>3</td>\n",
       "      <td>1</td>\n",
       "      <td>0</td>\n",
       "      <td>0</td>\n",
       "      <td>0</td>\n",
       "      <td>0</td>\n",
       "      <td>0</td>\n",
       "      <td>2</td>\n",
       "      <td>3</td>\n",
       "      <td>...</td>\n",
       "      <td>0</td>\n",
       "      <td>0</td>\n",
       "      <td>2</td>\n",
       "      <td>2</td>\n",
       "      <td>0</td>\n",
       "      <td>7</td>\n",
       "      <td>15</td>\n",
       "      <td>2</td>\n",
       "      <td>1</td>\n",
       "      <td>1</td>\n",
       "    </tr>\n",
       "    <tr>\n",
       "      <th>Ir21a</th>\n",
       "      <td>0</td>\n",
       "      <td>0</td>\n",
       "      <td>0</td>\n",
       "      <td>0</td>\n",
       "      <td>0</td>\n",
       "      <td>0</td>\n",
       "      <td>0</td>\n",
       "      <td>0</td>\n",
       "      <td>0</td>\n",
       "      <td>0</td>\n",
       "      <td>...</td>\n",
       "      <td>0</td>\n",
       "      <td>0</td>\n",
       "      <td>0</td>\n",
       "      <td>0</td>\n",
       "      <td>0</td>\n",
       "      <td>0</td>\n",
       "      <td>0</td>\n",
       "      <td>0</td>\n",
       "      <td>0</td>\n",
       "      <td>0</td>\n",
       "    </tr>\n",
       "    <tr>\n",
       "      <th>CR43609</th>\n",
       "      <td>0</td>\n",
       "      <td>0</td>\n",
       "      <td>0</td>\n",
       "      <td>0</td>\n",
       "      <td>0</td>\n",
       "      <td>0</td>\n",
       "      <td>0</td>\n",
       "      <td>0</td>\n",
       "      <td>0</td>\n",
       "      <td>0</td>\n",
       "      <td>...</td>\n",
       "      <td>0</td>\n",
       "      <td>0</td>\n",
       "      <td>0</td>\n",
       "      <td>0</td>\n",
       "      <td>0</td>\n",
       "      <td>1</td>\n",
       "      <td>0</td>\n",
       "      <td>0</td>\n",
       "      <td>0</td>\n",
       "      <td>0</td>\n",
       "    </tr>\n",
       "    <tr>\n",
       "      <th>Cda5</th>\n",
       "      <td>0</td>\n",
       "      <td>0</td>\n",
       "      <td>0</td>\n",
       "      <td>0</td>\n",
       "      <td>0</td>\n",
       "      <td>0</td>\n",
       "      <td>0</td>\n",
       "      <td>0</td>\n",
       "      <td>0</td>\n",
       "      <td>0</td>\n",
       "      <td>...</td>\n",
       "      <td>0</td>\n",
       "      <td>0</td>\n",
       "      <td>0</td>\n",
       "      <td>1</td>\n",
       "      <td>0</td>\n",
       "      <td>0</td>\n",
       "      <td>0</td>\n",
       "      <td>0</td>\n",
       "      <td>0</td>\n",
       "      <td>0</td>\n",
       "    </tr>\n",
       "  </tbody>\n",
       "</table>\n",
       "<p>5 rows × 753 columns</p>\n",
       "</div>"
      ],
      "text/plain": [
       "         AAACCTGAGAGGACGG-1  AAACCTGAGCCTATGT-1  AAACCTGGTCAAGCGA-1  \\\n",
       "CG11023                   0                   0                   0   \n",
       "l(2)gl                    1                   3                   1   \n",
       "Ir21a                     0                   0                   0   \n",
       "CR43609                   0                   0                   0   \n",
       "Cda5                      0                   0                   0   \n",
       "\n",
       "         AAACCTGTCCGCAGTG-1  AAAGATGGTATCACCA-1  AAAGCAAGTAATCACC-1  \\\n",
       "CG11023                   0                   0                   0   \n",
       "l(2)gl                    0                   0                   0   \n",
       "Ir21a                     0                   0                   0   \n",
       "CR43609                   0                   0                   0   \n",
       "Cda5                      0                   0                   0   \n",
       "\n",
       "         AAAGCAATCCTTGGTC-1  AAAGTAGCAAGCGCTC-1  AAAGTAGCAGACGCAA-1  \\\n",
       "CG11023                   0                   0                   0   \n",
       "l(2)gl                    0                   0                   2   \n",
       "Ir21a                     0                   0                   0   \n",
       "CR43609                   0                   0                   0   \n",
       "Cda5                      0                   0                   0   \n",
       "\n",
       "         AAAGTAGTCCAAAGTC-1         ...          TTGGAACTCCTTCAAT-1  \\\n",
       "CG11023                   0         ...                           0   \n",
       "l(2)gl                    3         ...                           0   \n",
       "Ir21a                     0         ...                           0   \n",
       "CR43609                   0         ...                           0   \n",
       "Cda5                      0         ...                           0   \n",
       "\n",
       "         TTGGAACTCTGCGACG-1  TTGTAGGCAGACACTT-1  TTTACTGAGAAGAAGC-1  \\\n",
       "CG11023                   0                   0                   0   \n",
       "l(2)gl                    0                   2                   2   \n",
       "Ir21a                     0                   0                   0   \n",
       "CR43609                   0                   0                   0   \n",
       "Cda5                      0                   0                   1   \n",
       "\n",
       "         TTTACTGAGGTGCAAC-1  TTTATGCGTAGAAGGA-1  TTTCCTCCACGGCCAT-1  \\\n",
       "CG11023                   0                   0                   0   \n",
       "l(2)gl                    0                   7                  15   \n",
       "Ir21a                     0                   0                   0   \n",
       "CR43609                   0                   1                   0   \n",
       "Cda5                      0                   0                   0   \n",
       "\n",
       "         TTTGCGCAGTACGCGA-1  TTTGCGCCATTAGGCT-1  TTTGGTTGTCCCTACT-1  \n",
       "CG11023                   0                   0                   0  \n",
       "l(2)gl                    2                   1                   1  \n",
       "Ir21a                     0                   0                   0  \n",
       "CR43609                   0                   0                   0  \n",
       "Cda5                      0                   0                   0  \n",
       "\n",
       "[5 rows x 753 columns]"
      ]
     },
     "execution_count": 84,
     "metadata": {},
     "output_type": "execute_result"
    }
   ],
   "source": [
    "df.head()"
   ]
  },
  {
   "cell_type": "code",
   "execution_count": 81,
   "metadata": {
    "collapsed": true
   },
   "outputs": [],
   "source": [
    "df = pd.DataFrame(arr)\n",
    "df.index = gene_names"
   ]
  },
  {
   "cell_type": "code",
   "execution_count": 8,
   "metadata": {
    "collapsed": true
   },
   "outputs": [],
   "source": [
    "df.columns = barcodes"
   ]
  },
  {
   "cell_type": "code",
   "execution_count": 96,
   "metadata": {},
   "outputs": [
    {
     "data": {
      "image/png": "[encoded data removed]",
      "text/plain": [
       "<matplotlib.figure.Figure at 0x1aa3590ac8>"
      ]
     },
     "metadata": {},
     "output_type": "display_data"
    },
    {
     "data": {
      "image/png": "[encoded data removed]",
      "text/plain": [
       "<matplotlib.figure.Figure at 0x1ab1b94b00>"
      ]
     },
     "metadata": {},
     "output_type": "display_data"
    }
   ],
   "source": [
    "original_len = df.shape[1]\n",
    "mito_df = df[[x.__contains__(\"mt:\") for x in df.index]]\n",
    "percent_mito = mito_df.sum(axis=0)/df.sum(axis = 0)\n",
    "nGene = df[df > 0].count(axis = 0)\n",
    "nUMI = df.sum(axis = 0)\n",
    "percent_mito_5percent = percent_mito < 0.08\n",
    "number_nGene_200 = 200 < nGene \n",
    "number_nGene_6000 = nGene < 6000\n",
    "df_filtered = df.loc[:, percent_mito_5percent & number_nGene_5000 & number_nGene_250]\n",
    "new_len = df_filtered.shape[1]\n",
    "plt.scatter(nUMI, percent_mito)\n",
    "plt.xlabel('nUMI')\n",
    "plt.ylabel('percent mitochondria')\n",
    "plt.show()\n",
    "plt.scatter(nUMI, nGene)\n",
    "plt.xlabel('nUMI')\n",
    "plt.ylabel('nGene')\n",
    "plt.show()"
   ]
  },
  {
   "cell_type": "code",
   "execution_count": 87,
   "metadata": {
    "scrolled": false
   },
   "outputs": [
    {
     "data": {
      "text/plain": [
       "<matplotlib.axes._subplots.AxesSubplot at 0x1a214502e8>"
      ]
     },
     "execution_count": 87,
     "metadata": {},
     "output_type": "execute_result"
    },
    {
     "data": {
      "image/png": "[encoded data removed]",
      "text/plain": [
       "<matplotlib.figure.Figure at 0x1a2979c278>"
      ]
     },
     "metadata": {},
     "output_type": "display_data"
    }
   ],
   "source": [
    "df_filtered.sum(axis = 0).hist()"
   ]
  },
  {
   "cell_type": "code",
   "execution_count": 93,
   "metadata": {},
   "outputs": [],
   "source": [
    "df_logtransformed = np.log((df_filtered / df_filtered.sum() *  10000) + 1)"
   ]
  },
  {
   "cell_type": "code",
   "execution_count": 94,
   "metadata": {},
   "outputs": [
    {
     "data": {
      "text/plain": [
       "<matplotlib.axes._subplots.AxesSubplot at 0x1a7702a438>"
      ]
     },
     "execution_count": 94,
     "metadata": {},
     "output_type": "execute_result"
    },
    {
     "data": {
      "image/png": "[encoded data removed]",
      "text/plain": [
       "<matplotlib.figure.Figure at 0x1a1381ac50>"
      ]
     },
     "metadata": {},
     "output_type": "display_data"
    }
   ],
   "source": [
    "df_logtransformed.sum(axis = 0).hist()"
   ]
  },
  {
   "cell_type": "code",
   "execution_count": null,
   "metadata": {
    "collapsed": true
   },
   "outputs": [],
   "source": []
  }
 ],
 "metadata": {
  "kernelspec": {
   "display_name": "Python 3",
   "language": "python",
   "name": "python3"
  },
  "language_info": {
   "codemirror_mode": {
    "name": "ipython",
    "version": 3
   },
   "file_extension": ".py",
   "mimetype": "text/x-python",
   "name": "python",
   "nbconvert_exporter": "python",
   "pygments_lexer": "ipython3",
   "version": "3.6.2"
  }
 },
 "nbformat": 4,
 "nbformat_minor": 2
}
